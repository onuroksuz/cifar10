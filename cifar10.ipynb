{
 "cells": [
  {
   "cell_type": "code",
   "execution_count": 8,
   "metadata": {},
   "outputs": [],
   "source": [
    "from keras.datasets import cifar10"
   ]
  },
  {
   "cell_type": "code",
   "execution_count": 9,
   "metadata": {},
   "outputs": [],
   "source": [
    "(x_train, y_train), (x_test, y_test) = cifar10.load_data()\n",
    "\n"
   ]
  },
  {
   "cell_type": "code",
   "execution_count": 10,
   "metadata": {},
   "outputs": [],
   "source": [
    "from keras.datasets import cifar10\n",
    "from keras import models\n",
    "from keras import layers\n",
    "from keras.utils import to_categorical"
   ]
  },
  {
   "cell_type": "code",
   "execution_count": 12,
   "metadata": {},
   "outputs": [
    {
     "name": "stdout",
     "output_type": "stream",
     "text": [
      "Epoch 1/5\n",
      "50000/50000 [==============================] - 106s 2ms/step - loss: 1.4902 - accuracy: 0.4608\n",
      "Epoch 2/5\n",
      "50000/50000 [==============================] - 120s 2ms/step - loss: 1.0274 - accuracy: 0.6404\n",
      "Epoch 3/5\n",
      "50000/50000 [==============================] - 119s 2ms/step - loss: 0.8488 - accuracy: 0.7055\n",
      "Epoch 4/5\n",
      "50000/50000 [==============================] - 133s 3ms/step - loss: 0.7401 - accuracy: 0.7428\n",
      "Epoch 5/5\n",
      "50000/50000 [==============================] - 111s 2ms/step - loss: 0.6618 - accuracy: 0.7703\n",
      "10000/10000 [==============================] - 5s 540us/step\n"
     ]
    },
    {
     "data": {
      "text/plain": [
       "0.7296000123023987"
      ]
     },
     "execution_count": 12,
     "metadata": {},
     "output_type": "execute_result"
    }
   ],
   "source": [
    "model = models.Sequential()\n",
    "\n",
    "(train_images, train_labels), (test_images, test_labels) = cifar10.load_data()\n",
    "\n",
    "model.add(layers.Conv2D(16, (3, 3), activation='relu', input_shape=(32,32,3)))\n",
    "\n",
    "model.add(layers.Conv2D(32, (3, 3), activation='relu'))\n",
    "model.add(layers.MaxPooling2D(pool_size=(2, 2)))\n",
    "\n",
    "model.add(layers.Conv2D(64, (3, 3),activation='relu'))\n",
    "\n",
    "model.add(layers.MaxPooling2D(pool_size=(2, 2)))\n",
    "model.add(layers.Conv2D(64, (3, 3),activation='relu'))\n",
    "\n",
    "model.add(layers.Flatten())\n",
    "model.add(layers.Dense(128,activation='relu'))\n",
    "model.add(layers.Dense(10,activation='softmax'))\n",
    "\n",
    "\n",
    "train_images=train_images.reshape((50000, 32, 32,3))\n",
    "train_images=train_images.astype('float32')/255\n",
    "          \n",
    "test_images=test_images.reshape((10000, 32, 32,3))\n",
    "test_images=test_images.astype('float32')/255\n",
    "          \n",
    "train_labels=to_categorical(train_labels)\n",
    "test_labels=to_categorical(test_labels)          \n",
    "\n",
    "\n",
    "# Let's train the model using RMSprop\n",
    "model.compile(loss='categorical_crossentropy',\n",
    "              optimizer='rmsprop',\n",
    "              metrics=['accuracy'])\n",
    "model.fit(train_images, train_labels,\n",
    "            batch_size=32,\n",
    "            epochs=5,\n",
    "            shuffle=True)\n",
    "test_loss, test_acc=model.evaluate(test_images, test_labels) \n",
    "test_acc          "
   ]
  },
  {
   "cell_type": "code",
   "execution_count": 5,
   "metadata": {},
   "outputs": [
    {
     "data": {
      "text/plain": [
       "6"
      ]
     },
     "execution_count": 5,
     "metadata": {},
     "output_type": "execute_result"
    }
   ],
   "source": [
    "import numpy as np\n",
    "y=model.predict(test_images[4].reshape(1,32,32,3))\n",
    "np.max(y)\n",
    "y\n",
    "np.argmax(y)"
   ]
  },
  {
   "cell_type": "code",
   "execution_count": null,
   "metadata": {},
   "outputs": [],
   "source": []
  }
 ],
 "metadata": {
  "kernelspec": {
   "display_name": "Python 3",
   "language": "python",
   "name": "python3"
  },
  "language_info": {
   "codemirror_mode": {
    "name": "ipython",
    "version": 3
   },
   "file_extension": ".py",
   "mimetype": "text/x-python",
   "name": "python",
   "nbconvert_exporter": "python",
   "pygments_lexer": "ipython3",
   "version": "3.7.4"
  }
 },
 "nbformat": 4,
 "nbformat_minor": 4
}
